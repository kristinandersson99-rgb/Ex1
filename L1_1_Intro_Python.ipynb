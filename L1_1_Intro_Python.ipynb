{
  "cells": [
    {
      "cell_type": "markdown",
      "metadata": {
        "id": "SDrdAbbkv-JP"
      },
      "source": [
        "# Introduction to Python\n",
        "\n",
        "\n",
        "## General information\n",
        "\n",
        "### Sources\n",
        "\n",
        "This lesson is inspired by the [Programming in Python lessons](http://swcarpentry.github.io/python-novice-inflammation/) from the [Software Carpentry organization](http://software-carpentry.org) and has adapted or reused material from University of Helsinki Geo-python course (https://geo-python-site.readthedocs.io/en/latest/course-info/licensing.html ) under a Creative Commons Attribution-ShareAlike 4.0 International licence (https://creativecommons.org/licenses/by-sa/4.0/deed.en).\n",
        "\n",
        "### About this document\n",
        "\n",
        "This is a [Jupyter Notebook](https://jupyter.org/). This particular notebook is designed to introduce you to a few of the basic concepts of programming in Python. The contents of this document are divided into cells, which can contain Markdown-formatted text, Python code, or raw text. You can execute a snippet of code in a cell by pressing <kbd>Shift</kbd> + <kbd>Enter</kbd>. Try this out with the examples below.\n",
        "\n"
      ]
    },
    {
      "cell_type": "markdown",
      "metadata": {
        "id": "0WgZfBhtv-JQ"
      },
      "source": [
        "\n",
        "### Python - your own scientific calculator\n",
        "\n",
        "\n",
        "\n",
        "With Python, you can perform arithmetic operations with ease. To run the code in the cells that follow, simply press <kbd>Shift</kbd> + <kbd>Enter</kbd> . Give it a try!"
      ]
    },
    {
      "cell_type": "code",
      "execution_count": 1,
      "metadata": {
        "jupyter": {
          "outputs_hidden": false
        },
        "id": "A_Im0Qw4v-JQ",
        "outputId": "b3904928-177b-4631-ca0f-c99d30dbcc71",
        "colab": {
          "base_uri": "https://localhost:8080/"
        }
      },
      "outputs": [
        {
          "output_type": "execute_result",
          "data": {
            "text/plain": [
              "20"
            ]
          },
          "metadata": {},
          "execution_count": 1
        }
      ],
      "source": [
        "15 + 5"
      ]
    },
    {
      "cell_type": "code",
      "execution_count": 2,
      "metadata": {
        "jupyter": {
          "outputs_hidden": false
        },
        "id": "epPHdEPuv-JQ",
        "outputId": "11323ab9-b0cd-4d62-c964-2be46e768f92",
        "colab": {
          "base_uri": "https://localhost:8080/"
        }
      },
      "outputs": [
        {
          "output_type": "execute_result",
          "data": {
            "text/plain": [
              "72"
            ]
          },
          "metadata": {},
          "execution_count": 2
        }
      ],
      "source": [
        "8 * 9"
      ]
    },
    {
      "cell_type": "markdown",
      "metadata": {
        "id": "cVO4emeVv-JR"
      },
      "source": [
        "Should you wish to modify and re-execute any code, just alter the content in the cell and hit <kbd>Shift</kbd> + <kbd>Enter</kbd> to run the updated code."
      ]
    },
    {
      "cell_type": "markdown",
      "metadata": {
        "id": "xDiFPnxHv-JR"
      },
      "source": [
        "We can also compute other function such as division and exponentiation. Let's divide \"5\" with \"15\" and compute \"2\" in the power of \"10\"."
      ]
    },
    {
      "cell_type": "code",
      "execution_count": 3,
      "metadata": {
        "id": "RHKEp_nev-JR",
        "outputId": "d02a0d98-5e83-4015-b0b6-52693bfabbcf",
        "colab": {
          "base_uri": "https://localhost:8080/"
        }
      },
      "outputs": [
        {
          "output_type": "execute_result",
          "data": {
            "text/plain": [
              "0.3333333333333333"
            ]
          },
          "metadata": {},
          "execution_count": 3
        }
      ],
      "source": [
        "5/15"
      ]
    },
    {
      "cell_type": "code",
      "execution_count": 4,
      "metadata": {
        "id": "ofFEtOsLv-JS",
        "outputId": "07168eb0-cc34-4617-d96a-0953d9d76249",
        "colab": {
          "base_uri": "https://localhost:8080/"
        }
      },
      "outputs": [
        {
          "output_type": "execute_result",
          "data": {
            "text/plain": [
              "1024"
            ]
          },
          "metadata": {},
          "execution_count": 4
        }
      ],
      "source": [
        "2**10"
      ]
    },
    {
      "cell_type": "markdown",
      "metadata": {
        "id": "KjOFRnGHv-JS"
      },
      "source": [
        "Similar to traditional algebra, the use of brackets is crucial to the correctness of computations. Check the following examples."
      ]
    },
    {
      "cell_type": "code",
      "execution_count": 5,
      "metadata": {
        "id": "Bb4xtY2Vv-JS",
        "outputId": "0e3c2005-4a89-465d-87fc-b9ee47ede57b",
        "colab": {
          "base_uri": "https://localhost:8080/"
        }
      },
      "outputs": [
        {
          "output_type": "execute_result",
          "data": {
            "text/plain": [
              "9.0"
            ]
          },
          "metadata": {},
          "execution_count": 5
        }
      ],
      "source": [
        "(5/5)*8+1"
      ]
    },
    {
      "cell_type": "code",
      "execution_count": 6,
      "metadata": {
        "id": "iMjCdlRDv-JS",
        "outputId": "ad12869f-3151-4ca6-c1de-69b2491a52e9",
        "colab": {
          "base_uri": "https://localhost:8080/"
        }
      },
      "outputs": [
        {
          "output_type": "execute_result",
          "data": {
            "text/plain": [
              "0.1111111111111111"
            ]
          },
          "metadata": {},
          "execution_count": 6
        }
      ],
      "source": [
        "5/(5*(8+1))"
      ]
    },
    {
      "cell_type": "code",
      "execution_count": 7,
      "metadata": {
        "id": "vTBtHubDv-JS",
        "outputId": "3a1b0f1e-5309-452f-f5dc-8278f904ad11",
        "colab": {
          "base_uri": "https://localhost:8080/"
        }
      },
      "outputs": [
        {
          "output_type": "execute_result",
          "data": {
            "text/plain": [
              "1.125"
            ]
          },
          "metadata": {},
          "execution_count": 7
        }
      ],
      "source": [
        "5/(5*8)+1"
      ]
    },
    {
      "cell_type": "markdown",
      "metadata": {
        "id": "aqNOz17Dv-JT"
      },
      "source": [
        "The outcome is different according to the use of brackets, so always keep this in mind!"
      ]
    },
    {
      "cell_type": "markdown",
      "metadata": {
        "id": "d0dVlmzev-JT"
      },
      "source": [
        "### Working with Functions\n",
        "\n",
        "Python enables more intricate mathematical operations through the use of functions. Think of functions as pre-packaged code snippets crafted to execute a specific task, like displaying content on your screen (take the  `print()` function as an example). Python boasts a vast library of functions, designed for a spectrum of tasks ranging from the most elementary to the highly sophisticated.\n",
        "\n",
        "It's worth noting that Python has both built-in and external functions. The built-in ones are foundational and come pre-loaded with Python. While they handle primary tasks efficiently, for intricate calculations, we often lean on specialized external libraries.\n",
        "\n",
        "To see this in action, try typing `cos(1)` or `sqrt(16)` in the cells below."
      ]
    },
    {
      "cell_type": "code",
      "execution_count": 8,
      "metadata": {
        "jupyter": {
          "outputs_hidden": false
        },
        "tags": [
          "raises-exception"
        ],
        "id": "p3C05o_Zv-JT",
        "outputId": "650e79f2-44c9-4799-8774-21fc4122069a",
        "colab": {
          "base_uri": "https://localhost:8080/",
          "height": 141
        }
      },
      "outputs": [
        {
          "output_type": "error",
          "ename": "NameError",
          "evalue": "name 'cos' is not defined",
          "traceback": [
            "\u001b[0;31m---------------------------------------------------------------------------\u001b[0m",
            "\u001b[0;31mNameError\u001b[0m                                 Traceback (most recent call last)",
            "\u001b[0;32m/tmp/ipython-input-739082252.py\u001b[0m in \u001b[0;36m<cell line: 0>\u001b[0;34m()\u001b[0m\n\u001b[0;32m----> 1\u001b[0;31m \u001b[0mcos\u001b[0m\u001b[0;34m(\u001b[0m\u001b[0;36m1\u001b[0m\u001b[0;34m)\u001b[0m\u001b[0;34m\u001b[0m\u001b[0;34m\u001b[0m\u001b[0m\n\u001b[0m",
            "\u001b[0;31mNameError\u001b[0m: name 'cos' is not defined"
          ]
        }
      ],
      "source": [
        "cos(1)"
      ]
    },
    {
      "cell_type": "code",
      "execution_count": 9,
      "metadata": {
        "jupyter": {
          "outputs_hidden": false
        },
        "tags": [
          "raises-exception"
        ],
        "id": "kBFY_HdAv-JT",
        "outputId": "d1e63077-4841-4437-97b0-c6a21622ab8d",
        "colab": {
          "base_uri": "https://localhost:8080/",
          "height": 141
        }
      },
      "outputs": [
        {
          "output_type": "error",
          "ename": "NameError",
          "evalue": "name 'sqrt' is not defined",
          "traceback": [
            "\u001b[0;31m---------------------------------------------------------------------------\u001b[0m",
            "\u001b[0;31mNameError\u001b[0m                                 Traceback (most recent call last)",
            "\u001b[0;32m/tmp/ipython-input-244926836.py\u001b[0m in \u001b[0;36m<cell line: 0>\u001b[0;34m()\u001b[0m\n\u001b[0;32m----> 1\u001b[0;31m \u001b[0msqrt\u001b[0m\u001b[0;34m(\u001b[0m\u001b[0;36m16\u001b[0m\u001b[0;34m)\u001b[0m\u001b[0;34m\u001b[0m\u001b[0;34m\u001b[0m\u001b[0m\n\u001b[0m",
            "\u001b[0;31mNameError\u001b[0m: name 'sqrt' is not defined"
          ]
        }
      ],
      "source": [
        "sqrt(16)"
      ]
    },
    {
      "cell_type": "markdown",
      "metadata": {
        "id": "1gkbhPTgv-JT"
      },
      "source": [
        "Surprisingly, Python doesn't instantly handle square root calculations or basic trigonometric functions out of the box. However, it's equipped to do so, we just need to \"call upon\" the appropriate functions."
      ]
    },
    {
      "cell_type": "markdown",
      "metadata": {
        "id": "z1ONSw3wv-JT"
      },
      "source": [
        "### Math operations\n",
        "\n",
        "### Functions and modules\n",
        "\n",
        "Python is not just a general-purpose programming language; it's a versatile tool that can handle intricate mathematical tasks when equipped with the right function. A function in Python is like a dedicated mini-program, designed to execute a particular task. For instance, the `print()` function is used to display content.\n",
        "\n",
        "The default version of Python has very limited active functions. Default Python can only perform \"Addition, Subtraction, Multiplication, Division and Exponentiation\"\n",
        "\n",
        "+: The addition operator.  Use this to sum two numbers.\n",
        "\n",
        "-: The minus operator.  Ideal for finding the difference between numbers.\n",
        "\n",
        "*: The multiplication operator.  Multiplies numbers together.\n",
        "\n",
        "/: The division operator.  Helps in finding the quotient.\n",
        "\n",
        "**: The exponentiation operator. You can raise numbers to a power with this operator.\\\n",
        "\n",
        "However, the built-in version of Python only scratches the surface of its mathematical prowess. For specialized mathematical operations beyond the basics, Python relies on `modules` - also known as `libraries`. One such module tailored for mathematical functions is the *math* module. To harness its power, simply type `import math`."
      ]
    },
    {
      "cell_type": "code",
      "execution_count": 10,
      "metadata": {
        "id": "foAEsmhLv-JU"
      },
      "outputs": [],
      "source": [
        "import math"
      ]
    },
    {
      "cell_type": "markdown",
      "metadata": {
        "id": "MDSTSoLVv-JU"
      },
      "source": [
        "\n",
        "### Tapping into the \"math\" Library\n",
        "\n",
        "Having imported the *math* library, its vast array of mathematical functions is now at our disposal. To access these functions, all you need to do is type the library's name followed by a dot \".\".\n",
        "\n",
        "For instance, to compute the cosine of 1, you'd type: `math.cos(1)`.\n",
        "\n",
        "Why not explore further? Use the *math* library to compute the sine value and square root from our previous examples. Dive in and experiment!"
      ]
    },
    {
      "cell_type": "code",
      "execution_count": 11,
      "metadata": {
        "jupyter": {
          "outputs_hidden": false
        },
        "id": "4SPRYW7Nv-JU",
        "outputId": "1d174ab6-69f0-4796-a7e8-eb4407957786",
        "colab": {
          "base_uri": "https://localhost:8080/"
        }
      },
      "outputs": [
        {
          "output_type": "execute_result",
          "data": {
            "text/plain": [
              "0.5403023058681398"
            ]
          },
          "metadata": {},
          "execution_count": 11
        }
      ],
      "source": [
        "math.cos(1)"
      ]
    },
    {
      "cell_type": "code",
      "execution_count": 12,
      "metadata": {
        "jupyter": {
          "outputs_hidden": false
        },
        "id": "wjOzUnkhv-JU",
        "outputId": "1d1173e9-95a0-4a93-fc1b-dea5242d475d",
        "colab": {
          "base_uri": "https://localhost:8080/"
        }
      },
      "outputs": [
        {
          "output_type": "execute_result",
          "data": {
            "text/plain": [
              "4.0"
            ]
          },
          "metadata": {},
          "execution_count": 12
        }
      ],
      "source": [
        "math.sqrt(16)"
      ]
    },
    {
      "cell_type": "markdown",
      "metadata": {
        "id": "69eK6wSsv-JU"
      },
      "source": [
        "### Libraries in Python: A Quick Recap\n",
        "\n",
        "1. A *library* is essentially a collection of related code entities, predominantly functions, bundled together for specific purposes.\n",
        "   \n",
        "2. To make use of a library, we first need to bring it into our code environment. This is done using the `import` command followed by the library's name, e.g., `import math`.\n",
        "   \n",
        "3. When accessing functions within a library, it's crucial to prefix the function with the library's name. For instance, to use the `cos()` function from the `math` library, we write `math.cos()`.\n",
        "   \n",
        "4. In the context of a Jupyter Notebook, variables defined and cells executed earlier remain active. This means you can reference those variables in subsequent cells.\n",
        "   \n",
        "5. Libraries, apart from functions, can also house constants. The `math` library, for instance, has a constant for the mathematical value of pi. Curious about its value? Just type `math.pi` in the cell below."
      ]
    },
    {
      "cell_type": "code",
      "execution_count": 13,
      "metadata": {
        "jupyter": {
          "outputs_hidden": false
        },
        "id": "AZhj3ym8v-JU",
        "outputId": "20401f41-0692-4fc4-d1f9-7849d832e759",
        "colab": {
          "base_uri": "https://localhost:8080/"
        }
      },
      "outputs": [
        {
          "output_type": "execute_result",
          "data": {
            "text/plain": [
              "3.141592653589793"
            ]
          },
          "metadata": {},
          "execution_count": 13
        }
      ],
      "source": [
        "math.pi"
      ]
    },
    {
      "cell_type": "markdown",
      "metadata": {
        "id": "PQb0Ur6Av-JU"
      },
      "source": [
        "#### Question?\n",
        "In the empty Python cell provided, try calculating the sine of pi.\n",
        "\n",
        "Question: What result do you anticipate for this computation?\n",
        "\n",
        "After you've made your calculation, compare: did the result align with your expectations?"
      ]
    },
    {
      "cell_type": "code",
      "execution_count": 14,
      "metadata": {
        "jupyter": {
          "outputs_hidden": false
        },
        "tags": [
          "hide-cell"
        ],
        "id": "QMEZKnbOv-JU",
        "outputId": "9ebdfcac-2733-4685-9611-27499d1cf563",
        "colab": {
          "base_uri": "https://localhost:8080/"
        }
      },
      "outputs": [
        {
          "output_type": "execute_result",
          "data": {
            "text/plain": [
              "1.2246467991473532e-16"
            ]
          },
          "metadata": {},
          "execution_count": 14
        }
      ],
      "source": [
        "math.sin(math.pi)"
      ]
    },
    {
      "cell_type": "markdown",
      "metadata": {
        "id": "3bIVCMMPv-JU"
      },
      "source": [
        "### Merging the Powers of Functions\n",
        "\n",
        "One of the beauties of functions is their ability to be intertwined, allowing us to execute more complex operations with ease. The `print()` function, for instance, outputs whatever is placed inside its parentheses onto the display.\n",
        "\n",
        "**Challenge:** In the space below, attempt to display the value of the square root of 16 using the `print()` function.\n"
      ]
    },
    {
      "cell_type": "code",
      "execution_count": 17,
      "metadata": {
        "jupyter": {
          "outputs_hidden": false
        },
        "id": "oHm8QYXQv-JV",
        "outputId": "17e334d2-5302-48d9-e713-a1c171fb39ee",
        "colab": {
          "base_uri": "https://localhost:8080/"
        }
      },
      "outputs": [
        {
          "output_type": "stream",
          "name": "stdout",
          "text": [
            "4.0\n"
          ]
        }
      ],
      "source": [
        "print(math.sqrt(16))"
      ]
    },
    {
      "cell_type": "markdown",
      "metadata": {
        "id": "aMLDaM0rv-JV"
      },
      "source": [
        "\n",
        "\n",
        "### Melding Text and Calculations with `print()`\n",
        "\n",
        "The `print()` function isn't just for outputting raw values; it's also a brilliant tool for blending text with dynamically computed values. By simply separating items with commas within its parentheses, we can mix and match static text with calculated results.\n",
        "\n",
        "**Challenge:** In the provided cell space, harness the power of `print()` in tandem with `math.sqrt()` to generate an output that states: 'The square root of 4 is 2.0'.\n"
      ]
    },
    {
      "cell_type": "code",
      "execution_count": 22,
      "metadata": {
        "jupyter": {
          "outputs_hidden": false
        },
        "id": "DngK3jwrv-JV",
        "outputId": "99a82788-60cb-4268-e3b2-7f4a62936ee0",
        "colab": {
          "base_uri": "https://localhost:8080/"
        }
      },
      "outputs": [
        {
          "output_type": "stream",
          "name": "stdout",
          "text": [
            "The square root of 4 is 2.0.\n",
            "The square root of 4 is 2.0 .\n"
          ]
        }
      ],
      "source": [
        "Square = math.sqrt(4)\n",
        "print(f'The square root of 4 is {Square}.')\n",
        "print(\"The square root of 4 is\", math.sqrt(4),\".\")"
      ]
    },
    {
      "cell_type": "markdown",
      "metadata": {
        "id": "nB1ky-nfv-JV"
      },
      "source": [
        "---\n",
        "\n",
        "### Storing Values with Variables\n",
        "\n",
        "Think of a `variable` as a named container that holds a specific value or data. Often, we use variables to retain the results of calculations, making it easier to reference or manipulate them later on. The process to assign a value to a variable is straightforward: `variable_name = value`.\n",
        "\n",
        "**Exercise:** In the next cell, assign a weight value (in kilograms) to a variable. Once done, use the `print()` function to display the stored value.\n"
      ]
    },
    {
      "cell_type": "code",
      "execution_count": 24,
      "metadata": {
        "jupyter": {
          "outputs_hidden": false
        },
        "id": "7TNtgdHjv-JV",
        "outputId": "34b6eacd-93e8-475a-e7cb-2eb6aca9571b",
        "colab": {
          "base_uri": "https://localhost:8080/"
        }
      },
      "outputs": [
        {
          "output_type": "stream",
          "name": "stdout",
          "text": [
            "80.0\n"
          ]
        }
      ],
      "source": [
        "weight_kg = 80.0\n",
        "print(weight_kg)"
      ]
    },
    {
      "cell_type": "markdown",
      "metadata": {
        "id": "d_FL2_Bzv-JV"
      },
      "source": [
        "\n",
        "\n",
        "### Displaying and Transforming Variable Values\n",
        "\n",
        "Variables are not just static containers; they can be dynamically manipulated and combined with other operations when being presented. As with direct values, you can use mathematical operations with variables.\n",
        "\n",
        "**Task:** In the upcoming cell, use the `print()` function to convert the `weight_kg` value to pounds. You can achieve this by multiplying `weight_kg` with the conversion factor \\(2.20462262\\). Aim to output a statement like: 'Weight in pounds: 50.0'. Remember, you'll need to adjust the calculation to match the stored value of `weight_kg`.\n",
        "\n"
      ]
    },
    {
      "cell_type": "code",
      "execution_count": 25,
      "metadata": {
        "jupyter": {
          "outputs_hidden": false
        },
        "id": "QKcqDWeRv-JW",
        "outputId": "56f658f9-8efe-4c8b-f141-1223687c1a85",
        "colab": {
          "base_uri": "https://localhost:8080/"
        }
      },
      "outputs": [
        {
          "output_type": "stream",
          "name": "stdout",
          "text": [
            "Weight in pounds: 176.3698096\n"
          ]
        }
      ],
      "source": [
        "print(\"Weight in pounds:\", weight_kg * 2.20462262)"
      ]
    },
    {
      "cell_type": "markdown",
      "metadata": {
        "id": "BCCl7D82v-JW"
      },
      "source": [
        "\n",
        "#### Another example with print\n",
        "\n",
        "We can use print() in other ways as well, for instance, combining two or more variables. Take a look at the example below."
      ]
    },
    {
      "cell_type": "code",
      "execution_count": 26,
      "metadata": {
        "tags": [
          "hide-cell"
        ],
        "id": "2ANU0BCRv-JW",
        "outputId": "fca2704a-3104-490a-acaf-b873e639e12c",
        "colab": {
          "base_uri": "https://localhost:8080/"
        }
      },
      "outputs": [
        {
          "output_type": "stream",
          "name": "stdout",
          "text": [
            "I like programming in Python!\n"
          ]
        }
      ],
      "source": [
        "# Here's a solution\n",
        "P1 = \"I like\"\n",
        "P2 = \"programming\"\n",
        "P3 = \"in Python!\"\n",
        "print(P1,P2,P3)"
      ]
    },
    {
      "cell_type": "markdown",
      "metadata": {
        "id": "YWzS8cqov-JW"
      },
      "source": [
        "\n",
        "\n",
        "### Modifying Variable Values\n",
        "\n",
        "Variables are flexible storage units. Just as you can assign a value to them, you can also modify that value whenever necessary.\n",
        "\n",
        "**Activity:** In the next cell, update the value of `weight_kg` to be 90. Once updated, use the `print()` function to display the new value.\n",
        "\n"
      ]
    },
    {
      "cell_type": "code",
      "execution_count": 27,
      "metadata": {
        "id": "5w2gGbJVv-JW"
      },
      "outputs": [],
      "source": [
        "weight_kg = 90.0"
      ]
    },
    {
      "cell_type": "code",
      "execution_count": 28,
      "metadata": {
        "jupyter": {
          "outputs_hidden": false
        },
        "id": "VNkOjF-Rv-JW",
        "outputId": "654c0079-f4cd-4aed-a776-168f8b140d79",
        "colab": {
          "base_uri": "https://localhost:8080/"
        }
      },
      "outputs": [
        {
          "output_type": "stream",
          "name": "stdout",
          "text": [
            "Weight in kg is now: 90.0\n"
          ]
        }
      ],
      "source": [
        "print(\"Weight in kg is now:\", weight_kg)"
      ]
    },
    {
      "cell_type": "markdown",
      "metadata": {
        "id": "aXWZK7Ygv-Jc"
      },
      "source": [
        "Be cautious! Accessing a variable that hasn't been defined or initialized in your code will lead to a `NameError`. For instance, if you attempt to display the value of `weight_kg` using the `print()` function before actually defining it, Python won't know what `weight_kg` is and will throw an error.\n",
        "\n",
        "Go ahead and try printing the value of `weight_kg` in the next cell to see this in action.\n"
      ]
    },
    {
      "cell_type": "code",
      "execution_count": 33,
      "metadata": {
        "jupyter": {
          "outputs_hidden": false
        },
        "tags": [
          "raises-exception"
        ],
        "id": "6EFxaKfsv-Jc",
        "outputId": "8bdb1a5b-a5c9-4700-dc32-77101d3b74e0",
        "colab": {
          "base_uri": "https://localhost:8080/"
        }
      },
      "outputs": [
        {
          "output_type": "stream",
          "name": "stdout",
          "text": [
            "Weight in kg : 90.0\n"
          ]
        }
      ],
      "source": [
        "print(\"Weight in kg :\", (weight_pounds / 2.20462262))"
      ]
    },
    {
      "cell_type": "markdown",
      "metadata": {
        "id": "h1i7hoZFv-Jc"
      },
      "source": [
        "Isn't it fascinating how Jupyter Notebooks operate? Here's a little quirk: if you define a previously undefined variable in a later cell and then execute that cell, you can revisit earlier cells that referenced the now-defined variable, and they'll run without a hitch! Confusing, right? Let's break it down with an experiment.\n",
        "\n",
        "In the cell below, go ahead and define a variable named `weight_pounds`. Set its value based on a not-yet-defined variable, `weight_kg`, multiplied by the conversion factor \\(2.2046226\\) for pounds to kilograms. Now, circle back to the cell right above this note and execute it. Notice something? The pesky `NameError` is gone! That's because `weight_pounds` is now recognized.\n",
        "\n",
        "A quick tip: The number adjacent to the cell, like `In [2]`, reveals the sequence in which cells have been executed. It's a handy way to track your cell execution order.\n"
      ]
    },
    {
      "cell_type": "code",
      "execution_count": 32,
      "metadata": {
        "id": "_kga6-_Fv-Jc"
      },
      "outputs": [],
      "source": [
        "weight_pounds = weight_kg * 2.20462262"
      ]
    },
    {
      "cell_type": "markdown",
      "metadata": {
        "id": "ZwxKuV7Jv-Jc"
      },
      "source": [
        "Just to check their current values, print out the values of ``weight_kg`` and ``weight_pounds`` in the cell below."
      ]
    },
    {
      "cell_type": "code",
      "execution_count": 34,
      "metadata": {
        "jupyter": {
          "outputs_hidden": false
        },
        "id": "R2DS7sbQv-Jc",
        "outputId": "174e2949-6116-43ca-a743-e7efcfca349e",
        "colab": {
          "base_uri": "https://localhost:8080/"
        }
      },
      "outputs": [
        {
          "output_type": "stream",
          "name": "stdout",
          "text": [
            "weight in kilograms: 90.0 and in pounds: 198.41603579999997\n"
          ]
        }
      ],
      "source": [
        "print(\"weight in kilograms:\", weight_kg, \"and in pounds:\", weight_pounds)"
      ]
    },
    {
      "cell_type": "markdown",
      "metadata": {
        "id": "Pig9aeNPv-Jc"
      },
      "source": [
        "### Variable values\n",
        "\n",
        "Changing the value of a variable does not affect other variable values. Let's redefine ``weight_kg`` to be equal to 10.0, and print out the values of ``weight_kg`` and ``weight_pounds``."
      ]
    },
    {
      "cell_type": "code",
      "execution_count": 35,
      "metadata": {
        "jupyter": {
          "outputs_hidden": false
        },
        "id": "NSEtkRy7v-Jc",
        "outputId": "a0db4ac8-07e4-4287-8564-283534e6ec51",
        "colab": {
          "base_uri": "https://localhost:8080/"
        }
      },
      "outputs": [
        {
          "output_type": "stream",
          "name": "stdout",
          "text": [
            "weight in kg is now: 10.0 and weight in pounds is still: 198.41603579999997\n"
          ]
        }
      ],
      "source": [
        "weight_kg = 10.0\n",
        "print(\n",
        "    \"weight in kg is now:\",\n",
        "    weight_kg,\n",
        "    \"and weight in pounds is still:\",\n",
        "    weight_pounds,\n",
        ")"
      ]
    },
    {
      "cell_type": "markdown",
      "metadata": {
        "id": "EIeQdBw3v-Jc"
      },
      "source": [
        "### Understanding Data Types in Python\n",
        "\n",
        "At the heart of Python lies a classification system for data, aptly named \"data types.\" Each data type determines the nature and operations applicable to the data it classifies.\n",
        "\n",
        "Here are the four fundamental data types in Python:\n",
        "\n",
        "| Data Type Name | Description           | Example    |\n",
        "| -------------- | --------------------- | ---------- |\n",
        "| `int`          | Represents whole numbers or integers | `4`      |\n",
        "| `float`        | Captures decimal or floating-point numbers | `3.1415` |\n",
        "| `str`          | Denotes sequences of characters, commonly known as strings | `'Hot'`  |\n",
        "| `bool`         | Holds Boolean values which can be either `True` or `False` | `True`   |\n",
        "\n",
        "To uncover the data type of a variable or a value, Python provides the `type()` function.\n",
        "\n",
        "However, be vigilant! Different data types come with different behaviors, and not all of them play well together.\n"
      ]
    },
    {
      "cell_type": "code",
      "execution_count": 36,
      "metadata": {
        "jupyter": {
          "outputs_hidden": false
        },
        "id": "giWnYYH-v-Jc",
        "outputId": "30d548cd-7cf2-4418-dc3e-3bdd2a2f728e",
        "colab": {
          "base_uri": "https://localhost:8080/"
        }
      },
      "outputs": [
        {
          "output_type": "execute_result",
          "data": {
            "text/plain": [
              "str"
            ]
          },
          "metadata": {},
          "execution_count": 36
        }
      ],
      "source": [
        "RainForecast = \"Heavy rain\"\n",
        "type(RainForecast)"
      ]
    },
    {
      "cell_type": "markdown",
      "metadata": {
        "id": "ut9ms1Mfv-Jd"
      },
      "source": [
        "Let's also check the type of ``weight_kg``. What happens if you try to combine ``weight_kg`` and ``RainForecast`` in a single math equation such as ``weight_kg = weight_kg + 5.0 * weatherForecast``?"
      ]
    },
    {
      "cell_type": "code",
      "execution_count": 37,
      "metadata": {
        "jupyter": {
          "outputs_hidden": false
        },
        "tags": [
          "raises-exception"
        ],
        "id": "1Afu2z5xv-Jd",
        "outputId": "795f62bd-cb85-4c53-a517-0970638992e1",
        "colab": {
          "base_uri": "https://localhost:8080/",
          "height": 159
        }
      },
      "outputs": [
        {
          "output_type": "error",
          "ename": "TypeError",
          "evalue": "can't multiply sequence by non-int of type 'float'",
          "traceback": [
            "\u001b[0;31m---------------------------------------------------------------------------\u001b[0m",
            "\u001b[0;31mTypeError\u001b[0m                                 Traceback (most recent call last)",
            "\u001b[0;32m/tmp/ipython-input-4119707234.py\u001b[0m in \u001b[0;36m<cell line: 0>\u001b[0;34m()\u001b[0m\n\u001b[1;32m      1\u001b[0m \u001b[0mtype\u001b[0m\u001b[0;34m(\u001b[0m\u001b[0mweight_kg\u001b[0m\u001b[0;34m)\u001b[0m\u001b[0;34m\u001b[0m\u001b[0;34m\u001b[0m\u001b[0m\n\u001b[0;32m----> 2\u001b[0;31m \u001b[0mweight_kg\u001b[0m \u001b[0;34m=\u001b[0m \u001b[0mweight_kg\u001b[0m \u001b[0;34m+\u001b[0m \u001b[0;36m5.0\u001b[0m \u001b[0;34m*\u001b[0m \u001b[0mRainForecast\u001b[0m\u001b[0;34m\u001b[0m\u001b[0;34m\u001b[0m\u001b[0m\n\u001b[0m",
            "\u001b[0;31mTypeError\u001b[0m: can't multiply sequence by non-int of type 'float'"
          ]
        }
      ],
      "source": [
        "type(weight_kg)\n",
        "weight_kg = weight_kg + 5.0 * RainForecast"
      ]
    },
    {
      "cell_type": "code",
      "execution_count": 38,
      "metadata": {
        "id": "NjOnj3Tvv-Jd",
        "outputId": "b0369035-626b-4f5e-e7d8-d18f46d8b18a",
        "colab": {
          "base_uri": "https://localhost:8080/"
        }
      },
      "outputs": [
        {
          "output_type": "execute_result",
          "data": {
            "text/plain": [
              "float"
            ]
          },
          "metadata": {},
          "execution_count": 38
        }
      ],
      "source": [
        "type(weight_kg)"
      ]
    },
    {
      "cell_type": "markdown",
      "metadata": {
        "id": "EtSP67swv-Jd"
      },
      "source": [
        "\n",
        "\n",
        "Python is strict about the operations it allows between differing data types. When we attempt an operation between incompatible data types, Python raises a `TypeError`.\n",
        "\n",
        "For instance, trying to multiply a number with a character string doesn't make logical sense. Python doesn't know how to handle such an operation and will signal this confusion with a `TypeError`.\n",
        "\n",
        "Let's see this in action.\n"
      ]
    },
    {
      "cell_type": "markdown",
      "metadata": {
        "id": "B7X0gEjxv-Jd"
      },
      "source": [
        "#### Challenge\n",
        "\n",
        "As it turns out, you can do some math with character strings in Python. Define two variables and assign them character string values in the Python cell below. What happens if you try to add two character strings together? Can you subtract them? Which other math operations work for character strings?"
      ]
    },
    {
      "cell_type": "code",
      "execution_count": 49,
      "metadata": {
        "tags": [
          "hide-cell"
        ],
        "id": "IAqiFjbXv-Jd",
        "outputId": "61747479-11f5-4445-c404-d74c962bd155",
        "colab": {
          "base_uri": "https://localhost:8080/",
          "height": 211
        }
      },
      "outputs": [
        {
          "output_type": "stream",
          "name": "stdout",
          "text": [
            "I like icecream!\n",
            "icecream!icecream!icecream!icecream!icecream!\n"
          ]
        },
        {
          "output_type": "error",
          "ename": "TypeError",
          "evalue": "unsupported operand type(s) for ** or pow(): 'str' and 'str'",
          "traceback": [
            "\u001b[0;31m---------------------------------------------------------------------------\u001b[0m",
            "\u001b[0;31mTypeError\u001b[0m                                 Traceback (most recent call last)",
            "\u001b[0;32m/tmp/ipython-input-2757879139.py\u001b[0m in \u001b[0;36m<cell line: 0>\u001b[0;34m()\u001b[0m\n\u001b[1;32m      6\u001b[0m \u001b[0mprint\u001b[0m\u001b[0;34m(\u001b[0m\u001b[0mfirst_variable\u001b[0m \u001b[0;34m+\u001b[0m \u001b[0;34m\" \"\u001b[0m \u001b[0;34m+\u001b[0m \u001b[0msecond_variable\u001b[0m\u001b[0;34m)\u001b[0m \u001b[0;31m# Help from Google search (string concatenation)\u001b[0m\u001b[0;34m\u001b[0m\u001b[0;34m\u001b[0m\u001b[0m\n\u001b[1;32m      7\u001b[0m \u001b[0mprint\u001b[0m\u001b[0;34m(\u001b[0m\u001b[0;36m5\u001b[0m \u001b[0;34m*\u001b[0m \u001b[0msecond_variable\u001b[0m\u001b[0;34m)\u001b[0m\u001b[0;34m\u001b[0m\u001b[0;34m\u001b[0m\u001b[0m\n\u001b[0;32m----> 8\u001b[0;31m \u001b[0mprint\u001b[0m\u001b[0;34m(\u001b[0m\u001b[0mfirst_variable\u001b[0m \u001b[0;34m**\u001b[0m \u001b[0msecond_variable\u001b[0m\u001b[0;34m)\u001b[0m\u001b[0;34m\u001b[0m\u001b[0;34m\u001b[0m\u001b[0m\n\u001b[0m",
            "\u001b[0;31mTypeError\u001b[0m: unsupported operand type(s) for ** or pow(): 'str' and 'str'"
          ]
        }
      ],
      "source": [
        "# Here is an example solution\n",
        "\n",
        "first_variable = \"I like\"\n",
        "second_variable = \"icecream!\"\n",
        "\n",
        "print(first_variable + \" \" + second_variable) # Help from Google search (string concatenation)\n",
        "print(5 * second_variable)\n",
        "print(first_variable ** second_variable)"
      ]
    },
    {
      "cell_type": "markdown",
      "metadata": {
        "id": "wmAfa_g3v-Jd"
      },
      "source": [
        "### Character input\n",
        "\n",
        "Python and Jupyter notebooks also let us interact in another way with our code! The built-in [input()](https://docs.python.org/3.6/library/functions.html?highlight=input#input) function reads a line from input and returns it as a string.\n",
        "\n",
        "Let's try it out. To start, we can define a varaible ``place`` and assign its value using the ``input()`` function to prompt the user for the location where they are from (e.g., ``input('Where are you from? ')``). When the cell is run, the user (you) can type in their response. Once ``place`` is defined, we can say something good about where the user is from (e.g., ``print(place, 'is a nice place!')``)."
      ]
    },
    {
      "cell_type": "markdown",
      "metadata": {
        "id": "Ri_WQptrv-Jd"
      },
      "source": [
        "```{warning}\n",
        "Jupyter Notebooks might sometimes get stuck when using the `input()` function. If this happens, restart the kernel and run the cell again (**Kernel** -> **Restart Kernel...**).\n",
        "\n",
        "```"
      ]
    },
    {
      "cell_type": "code",
      "execution_count": 50,
      "metadata": {
        "jupyter": {
          "outputs_hidden": false
        },
        "tags": [
          "raises-exception"
        ],
        "id": "phWIFyIgv-Jd",
        "outputId": "d36238e8-2e6f-40bf-a4a0-c1a2cca63c4e",
        "colab": {
          "base_uri": "https://localhost:8080/"
        }
      },
      "outputs": [
        {
          "output_type": "stream",
          "name": "stdout",
          "text": [
            "What is the capital of Sweden? Helsinki\n",
            "Helsinki is the capital of Sweden!\n"
          ]
        }
      ],
      "source": [
        "capital = input(\"What is the capital of Sweden? \")\n",
        "print(capital, \"is the capital of Sweden!\")"
      ]
    },
    {
      "cell_type": "markdown",
      "metadata": {
        "id": "tc70gWz4v-Je"
      },
      "source": [
        "Let's try another example in the cell below using the similar approach. Ask the user for a weight in kiograms using the ``input()`` function and print the input value to the screen."
      ]
    },
    {
      "cell_type": "code",
      "execution_count": 52,
      "metadata": {
        "jupyter": {
          "outputs_hidden": false
        },
        "tags": [
          "raises-exception"
        ],
        "id": "GByBwVbfv-Je",
        "outputId": "77a79ad7-c141-42da-c591-eb15991a3ec6",
        "colab": {
          "base_uri": "https://localhost:8080/"
        }
      },
      "outputs": [
        {
          "output_type": "stream",
          "name": "stdout",
          "text": [
            "How much does an adult Rhinoceros typically weights?5\n",
            "about 5 kilograms\n"
          ]
        }
      ],
      "source": [
        "weight_kg = input(\"How much does an adult Rhinoceros typically weights?\")\n",
        "print(\"about\", weight_kg, \"kilograms\")"
      ]
    },
    {
      "cell_type": "markdown",
      "metadata": {
        "id": "WSiis4iwv-Je"
      },
      "source": [
        "What is the data type of variable `capital`?"
      ]
    },
    {
      "cell_type": "code",
      "execution_count": 53,
      "metadata": {
        "tags": [
          "raises-exception"
        ],
        "id": "7CCG5xFsv-Je",
        "outputId": "6f9da450-3fee-4c9e-a7f6-1f6cd3c02f36",
        "colab": {
          "base_uri": "https://localhost:8080/"
        }
      },
      "outputs": [
        {
          "output_type": "stream",
          "name": "stdout",
          "text": [
            "<class 'str'>\n",
            "<class 'str'>\n"
          ]
        }
      ],
      "source": [
        "print(type(capital))\n",
        "print(type(weight_kg))"
      ]
    },
    {
      "cell_type": "markdown",
      "metadata": {
        "id": "eKfVNlTmv-Je"
      },
      "source": [
        "What happens when you try to convert your weight in kg  to pounds using the equation from earlier in the lesson?"
      ]
    },
    {
      "cell_type": "code",
      "execution_count": 54,
      "metadata": {
        "tags": [
          "raises-exception"
        ],
        "id": "HW1B1Arlv-Je",
        "outputId": "ee4190e0-683e-4e23-9352-710324a0d60c",
        "colab": {
          "base_uri": "https://localhost:8080/",
          "height": 141
        }
      },
      "outputs": [
        {
          "output_type": "error",
          "ename": "TypeError",
          "evalue": "can't multiply sequence by non-int of type 'float'",
          "traceback": [
            "\u001b[0;31m---------------------------------------------------------------------------\u001b[0m",
            "\u001b[0;31mTypeError\u001b[0m                                 Traceback (most recent call last)",
            "\u001b[0;32m/tmp/ipython-input-3373747002.py\u001b[0m in \u001b[0;36m<cell line: 0>\u001b[0;34m()\u001b[0m\n\u001b[0;32m----> 1\u001b[0;31m \u001b[0mweight_pounds\u001b[0m \u001b[0;34m=\u001b[0m \u001b[0mweight_kg\u001b[0m \u001b[0;34m*\u001b[0m \u001b[0;36m2.20462262\u001b[0m\u001b[0;34m\u001b[0m\u001b[0;34m\u001b[0m\u001b[0m\n\u001b[0m",
            "\u001b[0;31mTypeError\u001b[0m: can't multiply sequence by non-int of type 'float'"
          ]
        }
      ],
      "source": [
        "weight_pounds = weight_kg * 2.20462262   # The weight_kg is now a str data type and can't be multiplied by float"
      ]
    },
    {
      "cell_type": "code",
      "execution_count": null,
      "metadata": {
        "id": "-7HEKLCMv-Je"
      },
      "outputs": [],
      "source": []
    }
  ],
  "metadata": {
    "anaconda-cloud": {},
    "kernelspec": {
      "display_name": "Python 3 (ipykernel)",
      "language": "python",
      "name": "python3"
    },
    "language_info": {
      "codemirror_mode": {
        "name": "ipython",
        "version": 3
      },
      "file_extension": ".py",
      "mimetype": "text/x-python",
      "name": "python",
      "nbconvert_exporter": "python",
      "pygments_lexer": "ipython3",
      "version": "3.11.9"
    },
    "colab": {
      "provenance": []
    }
  },
  "nbformat": 4,
  "nbformat_minor": 0
}