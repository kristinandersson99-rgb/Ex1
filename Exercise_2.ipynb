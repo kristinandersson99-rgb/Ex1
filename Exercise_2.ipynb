{
  "cells": [
    {
      "cell_type": "markdown",
      "id": "2a9a80a7-92a9-49c2-8925-10f9fc41b117",
      "metadata": {
        "id": "2a9a80a7-92a9-49c2-8925-10f9fc41b117",
        "tags": []
      },
      "source": [
        "# Exercise 2 - Lists and indices\n",
        "The exercise for this week is meant to help you better understand lists in Python. You will also get to practice the Markdown syntax.\n",
        "\n",
        "Exercise 2 consists of 3 problems. For each problem you need to modify the notebook by adding your own solutions.\n",
        "\n",
        "## Please note\n",
        "\n",
        "- The Python code cells where you should make changes will contain text that reads. You can edit these cells as you like as long as the answers are correct.\n",
        "\n",
        "  ```Python\n",
        "    YOUR CODE HERE\n",
        "  ```\n",
        "\n",
        "- Some of the code cells contain tests. If these tests fail (you see an error message), you know there is still something wrong with your code.\n",
        "\n",
        "\n"
      ]
    },
    {
      "cell_type": "markdown",
      "id": "293b9c2a",
      "metadata": {
        "id": "293b9c2a"
      },
      "source": [
        "## Assignment 1 - Making and changing lists\n",
        "\n",
        "Your first task for this week is to create a list of old and popular European railway stations and the years in which they began operating.\n",
        "You will then add some more stations and operation years to your lists, and finally sort the lists such that the newest station is first in the list of operation years.\n",
        "You will find the list of stations and the years in which they began operating below.\n",
        "\n",
        "| station name        | First year of operation |\n",
        "| ----------------------- | :---------------------: |\n",
        "| Gare d Osay             | 1900                    |\n",
        "| Madrid Atocha           | 1851                    |\n",
        "| Basil                   | 1907                    |\n",
        "| Roma Termini            | 1874                    |\n",
        "| King's Cross            | 1851                    |\n",
        "\n",
        "### Grading for Assignment 1\n",
        "\n",
        "Your score for this problem will be based on\n",
        "\n",
        "- Creating two lists for the train station names and years in which they began operating\n",
        "- Adding the second set of stations and operation years to your lists\n",
        "- Sorting the lists as directed\n",
        "- Listing the changes you needed to make to get the code working in plain English by modifying the existing text or adding a Markdown/Text cell above each change"
      ]
    },
    {
      "cell_type": "markdown",
      "id": "ae91af14",
      "metadata": {
        "id": "ae91af14"
      },
      "source": [
        "### Part 1 - Creating the lists\n",
        "\n",
        "In the cell below you should create two lists:\n",
        "\n",
        "- `station_names` should contain the train station names in the order they are given in the table above\n",
        "- `station_start_years` should contain the first years of operation of the stations, again in the order given above"
      ]
    },
    {
      "cell_type": "code",
      "execution_count": 6,
      "id": "c01f50a3",
      "metadata": {
        "id": "c01f50a3",
        "outputId": "3e4e7626-8a32-4bc5-8979-4781af42fae6",
        "colab": {
          "base_uri": "https://localhost:8080/"
        }
      },
      "outputs": [
        {
          "output_type": "stream",
          "name": "stdout",
          "text": [
            "Roma Termini\n"
          ]
        }
      ],
      "source": [
        "# YOUR CODE HERE\n",
        "# Create the lists below\n",
        "station_names = [\n",
        "    'Gare d Osay',\n",
        "    'Madrid Atocha',\n",
        "    'Basil',\n",
        "    'Roma Termini',\n",
        "    'King\\'s Cross'  # Google search on how to use apostrophe in Python code\n",
        "]\n",
        "station_start_years = [\n",
        "    1900,\n",
        "    1851,\n",
        "    1907,\n",
        "    1874,\n",
        "    1851\n",
        "]"
      ]
    },
    {
      "cell_type": "markdown",
      "id": "e5cbf092",
      "metadata": {
        "id": "e5cbf092"
      },
      "source": [
        "Let's now check the lists contain the expected values."
      ]
    },
    {
      "cell_type": "code",
      "execution_count": 10,
      "id": "712d5bcd",
      "metadata": {
        "id": "712d5bcd"
      },
      "outputs": [],
      "source": [
        "# This is a test cell that checks that the list lengths are correct\n",
        "# Running this cell should not produce any errors\n",
        "assert len(station_names) == 5, 'The station_names list should have 5 items.'\n",
        "assert len(station_start_years) == 5, 'The station_start_years list should have 5 items.'"
      ]
    },
    {
      "cell_type": "code",
      "execution_count": 8,
      "id": "d62c26f2",
      "metadata": {
        "id": "d62c26f2"
      },
      "outputs": [],
      "source": [
        "# This is a test cell that checks that the first item in the lists is correct\n",
        "# Running this cell should not produce any errors\n",
        "assert station_names[0] == 'Gare d Osay', 'The first item in the station_names list should be \"Gare d Osay\"'\n",
        "assert station_start_years[0] == 1900, 'The first item in the station_start_years list should be 1900'"
      ]
    },
    {
      "cell_type": "markdown",
      "id": "8e108941",
      "metadata": {
        "id": "8e108941"
      },
      "source": [
        "### Part 2 - Modifying the lists\n",
        "\n",
        "Let's now add a few more stations to our lists.\n",
        "The stations to add are shown in the table below.\n",
        "\n",
        "| station name | First year of operation |\n",
        "| ---------------- | :---------------------: |\n",
        "| Berlin Hauptbahf | 1871                    |\n",
        "| Lille Flanders   | 1892                    |\n",
        "| Rostock          | 1886                   |\n",
        "\n",
        "In the cell below you should add the stations and starting years to your existing `station_names` and `station_start_years` lists in the order they are listed above."
      ]
    },
    {
      "cell_type": "code",
      "execution_count": 12,
      "id": "3aee173c",
      "metadata": {
        "id": "3aee173c"
      },
      "outputs": [],
      "source": [
        "# Below, add the stations from the second table to the lists\n",
        "# YOUR CODE HERE\n",
        "station_names = [\n",
        "    'Gare d Osay',\n",
        "    'Madrid Atocha',\n",
        "    'Basil',\n",
        "    'Roma Termini',\n",
        "    'King\\'s Cross',  # Google search on how to use apostrophe in Python code\n",
        "    'Berlin Hauptbahf',\n",
        "    'Lille Flanders',\n",
        "    'Rostock'\n",
        "]\n",
        "station_start_years = [\n",
        "    1900,\n",
        "    1851,\n",
        "    1907,\n",
        "    1874,\n",
        "    1851,\n",
        "    1871,\n",
        "    1892,\n",
        "    1886\n",
        "]\n"
      ]
    },
    {
      "cell_type": "markdown",
      "id": "22478d75",
      "metadata": {
        "id": "22478d75"
      },
      "source": [
        "And we can now check to see whether the modified lists contain the expected values."
      ]
    },
    {
      "cell_type": "code",
      "execution_count": 13,
      "id": "a0e3975b",
      "metadata": {
        "id": "a0e3975b"
      },
      "outputs": [],
      "source": [
        "# This is a test cell that checks that the list lengths are correct\n",
        "# Running this cell should not produce any errors\n",
        "assert len(station_names) == 8, 'The station_names list should have 8 items.'\n",
        "assert len(station_start_years) == 8, 'The station_start_years list should have 8 items.'"
      ]
    },
    {
      "cell_type": "code",
      "execution_count": 14,
      "id": "a5ac290b",
      "metadata": {
        "id": "a5ac290b"
      },
      "outputs": [],
      "source": [
        "# This is a test cell that checks that the last item in the lists is correct\n",
        "# Running this cell should not produce any errors\n",
        "assert station_names[-1] == 'Rostock', 'The last item in the station_names list should be \"Rostock\"'\n",
        "assert station_start_years[-1] == 1886, 'The last item in the station_start_years list should be 1886'"
      ]
    },
    {
      "cell_type": "markdown",
      "id": "30f57e57",
      "metadata": {
        "id": "30f57e57"
      },
      "source": [
        "### Part 3 - Sorting the lists\n",
        "\n",
        "Finally, we can take our lists and sort them. The goal here is to produce two sorted lists:\n",
        "\n",
        "- The `station_names` list should be sorted so the stations are in alphabetical order\n",
        "- The `station_start_years` list should be sorted so that the most recent station starting year is first in the list"
      ]
    },
    {
      "cell_type": "code",
      "execution_count": 16,
      "id": "748126fb",
      "metadata": {
        "id": "748126fb",
        "outputId": "fcd9a8b0-2271-4846-d560-983d206bf582",
        "colab": {
          "base_uri": "https://localhost:8080/"
        }
      },
      "outputs": [
        {
          "output_type": "stream",
          "name": "stdout",
          "text": [
            "['Basil', 'Berlin Hauptbahf', 'Gare d Osay', \"King's Cross\", 'Lille Flanders', 'Madrid Atocha', 'Roma Termini', 'Rostock']\n",
            "[1851, 1851, 1871, 1874, 1886, 1892, 1900, 1907]\n"
          ]
        }
      ],
      "source": [
        "# Below, sort the lists as directed\n",
        "\n",
        "# YOUR CODE HERE\n",
        "\n",
        "station_names.sort()\n",
        "station_start_years.sort()\n",
        "\n",
        "print(station_names)\n",
        "print(station_start_years)"
      ]
    },
    {
      "cell_type": "markdown",
      "id": "9093d86e",
      "metadata": {
        "id": "9093d86e"
      },
      "source": [
        "### Part 4 - Understanding the code\n",
        "\n",
        "Looking at the lists used in Assignment 1, what might be a problem with how we have sorted them?\n",
        "Please answer briefly in the cell below."
      ]
    },
    {
      "cell_type": "markdown",
      "id": "6759de29",
      "metadata": {
        "id": "6759de29"
      },
      "source": [
        "YOUR ANSWER HERE\n",
        "1. The sorted lists no longer match with the station names and years.\n",
        "2. The station Gare d Osay could cause a sorting problem if there were other station names, due to the lowercase letter \"d\".\n",
        "3. There are two stations with the start year 1851"
      ]
    },
    {
      "cell_type": "markdown",
      "id": "1c36c059",
      "metadata": {
        "id": "1c36c059"
      },
      "source": [
        "## Assignment 2 - Accessing monthly average temperatures\n",
        "\n",
        "The table below presents average precipitation (mm) in Stockholm for 2022.\n",
        "\n",
        "| Month     | Precipitation [mm] |\n",
        "| --------- | :--------------: |\n",
        "| January   | 30             |\n",
        "| February  | 30             |\n",
        "| March     | 30             |\n",
        "| April     | 45             |\n",
        "| May       | 35             |\n",
        "| June      | 60             |\n",
        "| July      | 50             |\n",
        "| August    | 65             |\n",
        "| September | 65             |\n",
        "| October   | 40             |\n",
        "| November  | 45             |\n",
        "| December  | 35             |\n",
        "\n",
        "In the code cells below, write some Python code that allows users to select a month and have the monthly average precipitation printed to the screen.\n",
        "For example, your code should display the following for the month of February:\n",
        "\n",
        "```\n",
        "The average precipitation in Stockholm in February is 30 mm\n",
        "```\n",
        "\n",
        "### Grading for Assignment 2\n",
        "\n",
        "Your score for this problem will be based on\n",
        "\n",
        "- Having your notebook display the monthly average precipitation in a selected month, set by defining the variable `selected_month_index`. **NOTE**: We expect you to use the index value to select the month, not the name of the month (e.g., \"May\").\n",
        "- Having it work for all 12 months in the year.\n",
        "- Describing how your code works in a few sentences of plain English in a Markdown/text cell above your code\n",
        "- Including inline comments in the Python cells to clearly explain how the code works between most or all lines of your code\n"
      ]
    },
    {
      "cell_type": "code",
      "execution_count": 36,
      "id": "1e28d88c",
      "metadata": {
        "id": "1e28d88c",
        "outputId": "116ba74e-9a18-46ec-a529-13e15ad5f842",
        "colab": {
          "base_uri": "https://localhost:8080/"
        }
      },
      "outputs": [
        {
          "name": "stdout",
          "output_type": "stream",
          "text": [
            "Select the month of which you want to know the average precipitation (index value): 6\n"
          ]
        }
      ],
      "source": [
        "# YOUR CODE HERE\n",
        "\n",
        "# Here is the variable that you should use to set the selected month\n",
        "selected_month_index = int(input('Select the month of which you want to know the average precipitation (index value): '))  # Using the input function to allow a user to specify which item in the list to look at, and converting the variable from str to int.\n",
        "\n",
        "# Here are also the names of the two lists you should use for this problem. Please do not change the variable names!\n",
        "months = [\n",
        "    'January',\n",
        "    'February',\n",
        "    'March',\n",
        "    'April',\n",
        "    'May',\n",
        "    'June',\n",
        "    'July',\n",
        "    'August',\n",
        "    'September',\n",
        "    'October',\n",
        "    'November',\n",
        "    'December'\n",
        "]\n",
        "average_precip = [30, 30, 30, 45, 35, 60, 50, 65, 65, 40, 45, 35]\n",
        "\n",
        "# Using the lists and their indices, generate the desired print statement\n",
        "print_statement = f'The average precipitation in Stockholm in {months[selected_month_index]} is {average_precip[selected_month_index]} mm'  # Using the input variable value to specify which index to collect.\n",
        "\n"
      ]
    },
    {
      "cell_type": "code",
      "execution_count": 37,
      "id": "0e63207d",
      "metadata": {
        "id": "0e63207d",
        "outputId": "4ef5c67a-8623-4ef8-ef2d-674f1d1b9ab0",
        "colab": {
          "base_uri": "https://localhost:8080/"
        }
      },
      "outputs": [
        {
          "output_type": "stream",
          "name": "stdout",
          "text": [
            "The average precipitation in Stockholm in July is 50 mm\n"
          ]
        }
      ],
      "source": [
        "# This cell will help you check that the output of your print statement is correct\n",
        "print(print_statement)"
      ]
    },
    {
      "cell_type": "markdown",
      "id": "18862852",
      "metadata": {
        "id": "18862852"
      },
      "source": [
        "### Additional tests for Assignment 2\n",
        "\n",
        "Let's run some additional tests to see if things are working as they should! These tests may help you in solving this problem. Note, we also have some hidden tests that we will run for checking the exercises."
      ]
    },
    {
      "cell_type": "code",
      "execution_count": 29,
      "id": "edea50f4",
      "metadata": {
        "id": "edea50f4"
      },
      "outputs": [],
      "source": [
        "# Check that the two lists have lengths of 12\n",
        "assert len(months) == 12, 'Wrong length!'\n",
        "assert len(average_precip) == 12, 'Wrong length!'"
      ]
    },
    {
      "cell_type": "code",
      "execution_count": 30,
      "id": "ce28215c",
      "metadata": {
        "id": "ce28215c"
      },
      "outputs": [],
      "source": [
        "# Check that that the month and average_temp variables are lists\n",
        "assert isinstance(months, list), 'Variable months is not a list'\n",
        "assert isinstance(average_precip, list), 'Variable average_precip is not a list'"
      ]
    },
    {
      "cell_type": "code",
      "execution_count": 38,
      "id": "0e064f56",
      "metadata": {
        "id": "0e064f56"
      },
      "outputs": [],
      "source": [
        "# Check that the print statement is correct;\n",
        "# Set selected_month_index to correspond with July before running this cell.\n",
        "# Note! Your code should work with any of the 12 months!\n",
        "assert print_statement == 'The average precipitation in Stockholm in July is 50 mm'"
      ]
    },
    {
      "cell_type": "markdown",
      "id": "5561c71a",
      "metadata": {
        "id": "5561c71a"
      },
      "source": [
        "### Questions about this week's lesson\n",
        "\n",
        "Please use Markdown to give your responses to the three questions below about this week's lesson.\n",
        "\n",
        "- What did you learn? A lot about what you can do with and store within a list, very useful. How to use input values for collecting items from a list\n",
        "- What was unclear?\n",
        "- What would you change about the lesson?\n",
        "    \n",
        "*Please use a Markdown list when answering these questions.*"
      ]
    },
    {
      "cell_type": "markdown",
      "id": "74a604eb",
      "metadata": {
        "id": "74a604eb"
      },
      "source": [
        "YOUR ANSWER HERE"
      ]
    },
    {
      "cell_type": "markdown",
      "id": "48be67e7",
      "metadata": {
        "id": "48be67e7"
      },
      "source": [
        "Save this file and download it if you are working on the cloud or simply save it if you are working in your local system. Submit it through Canvas!\n"
      ]
    },
    {
      "cell_type": "code",
      "execution_count": null,
      "id": "2397c5da",
      "metadata": {
        "id": "2397c5da"
      },
      "outputs": [],
      "source": []
    }
  ],
  "metadata": {
    "colab": {
      "provenance": []
    },
    "kernelspec": {
      "display_name": "Python 3 (ipykernel)",
      "language": "python",
      "name": "python3"
    },
    "language_info": {
      "codemirror_mode": {
        "name": "ipython",
        "version": 3
      },
      "file_extension": ".py",
      "mimetype": "text/x-python",
      "name": "python",
      "nbconvert_exporter": "python",
      "pygments_lexer": "ipython3",
      "version": "3.9.7"
    }
  },
  "nbformat": 4,
  "nbformat_minor": 5
}