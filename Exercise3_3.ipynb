{
  "cells": [
    {
      "cell_type": "markdown",
      "id": "f30258dd",
      "metadata": {
        "id": "f30258dd"
      },
      "source": [
        "## Assignment 3 - Allocating locations\n",
        "\n",
        "### Overview\n",
        "\n",
        "Using a random calculator, we have created a set of 30 random locations within Sweden. These locations are assumed to contain observations for different endangered animal species.\n",
        "\n",
        "The latitute and longtitude of these locations are given to you below, as well as their number.\n",
        "The location of a single station is determined with a pair of latitude and longitude coordinates.\n",
        "The coordinates of all the stations are separated into two lists (`lat` and `lon`) and the names of the stations are in the `stations` list. From these lists, you would get, for example, the location of the first station by combining the latitude and longitude coordinates from the coordinate lists, and the name of that station from the `stations` list at index `0`.\n",
        "\n",
        "### Task\n",
        "\n",
        "In this problem your task is to print the names of weather stations located in different zones.\n",
        "\n",
        "To solve this problem, you should modify and fill in the missing parts in the code cells below.\n",
        "\n",
        "\n",
        "### Scores for this problem\n",
        "\n",
        "**Your score on this problem will be based on following criteria:**\n",
        "\n",
        "- Creating four lists for geographical zones in Sweden (i.e. `nort_west`, `north_east`, `south_west`, `south_east`)\n",
        "- Iterating over the values and determining to which geographical zone the station belongs\n",
        "    - Hint: You should create a loop that iterates `n` times. Create a variable *`n`* that should contain the number of stations we have here.\n",
        "    - You should use a conditional statement to find out if the latitude coordinate of a station is either North or South of the center point of Sweden (`59.35, 15.2`) **AND** if the longitude location is West or East of that center point.\n",
        "    - You should insert the name of the station into the correct geographical zone list\n",
        "- Printing out the names of stations in each geographical zone"
      ]
    },
    {
      "cell_type": "markdown",
      "id": "6785bf0a",
      "metadata": {
        "id": "6785bf0a"
      },
      "source": [
        "## The data\n",
        "\n",
        "Here, we provide the data you should use to solve Problem 3 (run the cell to store values in memory)."
      ]
    },
    {
      "cell_type": "code",
      "execution_count": 3,
      "id": "8f35a523",
      "metadata": {
        "tags": [],
        "id": "8f35a523"
      },
      "outputs": [],
      "source": [
        "# Station names\n",
        "stations = [\"Station_1\", \"Station_2\", \"Station_3\", \"Station_4\", \"Station_5\",\n",
        "            \"Station_6\", \"Station_7\", \"Station_8\", \"Station_9\", \"Station_10\",\n",
        "            \"Station_11\", \"Station_12\", \"Station_13\", \"Station_14\", \"Station_15\",\n",
        "            \"Station_16\", \"Station_17\", \"Station_18\", \"Station_19\", \"Station_20\",\n",
        "            \"Station_21\", \"Station_22\", \"Station_23\", \"Station_24\", \"Station_25\",\n",
        "            \"Station_26\", \"Station_27\", \"Station_28\", \"Station_29\", \"Station_30\"]\n",
        "\n",
        "\n",
        "# Latitude coordinates of Weather stations\n",
        "lats =  [65.64006883314808, 62.5748353158229, 56.321395427431696, 68.21611864544029,\n",
        "         55.905729599442175, 64.18611217138275, 62.02852366444752, 62.648992361250826,\n",
        "         57.53461100224561, 56.116436845741646, 58.252156370102355, 63.62086512403795,\n",
        "         61.194896428991775, 59.994144965125656, 63.85519402973615, 66.19421174837188,\n",
        "         64.98671539354666, 56.18932332110966, 64.77086506744357, 62.23264093011149,\n",
        "         56.827386453523, 57.326393142731156, 65.06861932410189, 68.30187655335757,\n",
        "         66.24880620887183, 67.21274996269948, 65.33413422054132, 63.93480672025623,\n",
        "         67.55089237745159, 64.33164479043648]\n",
        "# Longitude coordinates of Weather stations\n",
        "lons = [16.16245513184213, 21.291035507159755, 22.560577885549954, 19.546349652164203,\n",
        "        18.68722663450183, 20.856398284991013, 21.245298262644663, 16.317172821869725,\n",
        "        11.330707182572052, 14.1830113719464, 19.998326046457244, 21.948825543250223,\n",
        "        15.51708761803337, 13.036252419229942, 19.727097257452, 20.76158675525954,\n",
        "        16.78822292901117, 19.08292336119821, 21.20213956217322, 22.85766595723571,\n",
        "        19.03923511666709, 17.72967430779997, 13.940654999102028, 19.972539272546456,\n",
        "        11.543492516756864, 15.969702434437384, 15.691087766013652, 16.73200385133417,\n",
        "        15.759698290952027, 12.968830980398192]\n",
        "\n",
        "\n",
        "\n",
        "\n",
        "\n",
        "\n",
        "# Cutoff values that correspond to the centroid of Swedish mainland\n",
        "# North - South\n",
        "north_south_cutoff = 59.35\n",
        "\n",
        "# East-West\n",
        "east_west_cutoff = 15.2"
      ]
    },
    {
      "cell_type": "markdown",
      "id": "c840e835",
      "metadata": {
        "id": "c840e835"
      },
      "source": [
        "### Part 1\n",
        "\n",
        "- Create four empty lists for the geographical zones in Sweden:\n",
        "   - `north_west`\n",
        "   - `north_east`\n",
        "   - `south_west`\n",
        "   - `south_east`"
      ]
    },
    {
      "cell_type": "code",
      "execution_count": 4,
      "id": "a69b3c04",
      "metadata": {
        "tags": [],
        "id": "a69b3c04"
      },
      "outputs": [],
      "source": [
        "# Creating empty lists for geographical zones in Sweden\n",
        "north_west = []\n",
        "north_east = []\n",
        "south_west = []\n",
        "south_east = []"
      ]
    },
    {
      "cell_type": "code",
      "execution_count": 5,
      "id": "0cbeb262",
      "metadata": {
        "tags": [],
        "colab": {
          "base_uri": "https://localhost:8080/"
        },
        "id": "0cbeb262",
        "outputId": "29eec289-03ff-4099-dcb0-b4a4082e8dc3"
      },
      "outputs": [
        {
          "output_type": "stream",
          "name": "stdout",
          "text": [
            "[] []\n"
          ]
        }
      ],
      "source": [
        "# This test print should work\n",
        "print(north_west, south_west)"
      ]
    },
    {
      "cell_type": "markdown",
      "id": "842964fb",
      "metadata": {
        "id": "842964fb"
      },
      "source": [
        "### Part 2\n",
        "\n",
        "- Count the total number of stations and store that value in the variable `n`."
      ]
    },
    {
      "cell_type": "code",
      "execution_count": 6,
      "id": "3cf40f3d",
      "metadata": {
        "id": "3cf40f3d"
      },
      "outputs": [],
      "source": [
        "# Counts the number of stations in the list \"stations\"\n",
        "n = len(stations)"
      ]
    },
    {
      "cell_type": "code",
      "execution_count": 7,
      "id": "170510c7",
      "metadata": {
        "colab": {
          "base_uri": "https://localhost:8080/"
        },
        "id": "170510c7",
        "outputId": "b2fc0840-4bb4-4841-8f30-81b28c7b1e8e"
      },
      "outputs": [
        {
          "output_type": "stream",
          "name": "stdout",
          "text": [
            "In the dataset there are 30 stations.\n"
          ]
        }
      ],
      "source": [
        "# How many stations do we have?\n",
        "print(f\"In the dataset there are {n} stations.\")"
      ]
    },
    {
      "cell_type": "markdown",
      "id": "126014b1",
      "metadata": {
        "id": "126014b1"
      },
      "source": [
        "### Part 3\n",
        "\n",
        "- Make a loop that iterates `n` times, and allocates stations to different geographical zones based on their coordinates."
      ]
    },
    {
      "cell_type": "code",
      "execution_count": 10,
      "id": "cee676fc",
      "metadata": {
        "colab": {
          "base_uri": "https://localhost:8080/"
        },
        "id": "cee676fc",
        "outputId": "86d20901-79e9-4c64-b6e8-8dae847028c2"
      },
      "outputs": [
        {
          "output_type": "stream",
          "name": "stdout",
          "text": [
            "[0, 1, 2, 3, 4, 5, 6, 7, 8, 9, 10, 11, 12, 13, 14, 15, 16, 17, 18, 19, 20, 21, 22, 23, 24, 25, 26, 27, 28, 29]\n"
          ]
        }
      ],
      "source": [
        "for i in range(n):\n",
        "  if i < north_south_cutoff:\n",
        "    north_west.append(i)\n",
        "print(north_west) # Fungerar inte eftersom i får värdet 0-30...\n",
        ""
      ]
    },
    {
      "cell_type": "markdown",
      "id": "e33bbcac",
      "metadata": {
        "id": "e33bbcac"
      },
      "source": [
        "### Part 4\n",
        "\n",
        "- In the following cells, you should print out the correct station names for each geographical zone.\n",
        "    "
      ]
    },
    {
      "cell_type": "code",
      "execution_count": null,
      "id": "a375d950",
      "metadata": {
        "id": "a375d950"
      },
      "outputs": [],
      "source": [
        "# This test print should print out station names in North West\n",
        "\n",
        "print(f\"The names of the Northwest stations are:\\n{north_west}\")"
      ]
    },
    {
      "cell_type": "code",
      "execution_count": null,
      "id": "7f183001",
      "metadata": {
        "id": "7f183001"
      },
      "outputs": [],
      "source": [
        "# This test print should print out station names in North Eest\n",
        "print(f\"The names of the Northeast stations are:\\n{north_east}\")"
      ]
    },
    {
      "cell_type": "code",
      "execution_count": null,
      "id": "23277e8b",
      "metadata": {
        "id": "23277e8b"
      },
      "outputs": [],
      "source": [
        "# This test print should print out station names in South West\n",
        "\n",
        "print(f\"The names of the Southwest stations are:\\n{south_west}\")"
      ]
    },
    {
      "cell_type": "code",
      "execution_count": null,
      "id": "e4f7c8a7",
      "metadata": {
        "id": "e4f7c8a7"
      },
      "outputs": [],
      "source": [
        "# This test print should print out station names in South East\n",
        "\n",
        "print(f\"The names of the Southeast stations are:\\n{south_east}\")"
      ]
    },
    {
      "cell_type": "markdown",
      "id": "17880889",
      "metadata": {
        "id": "17880889"
      },
      "source": [
        "### Part 5\n",
        "\n",
        "Here, we ask a few questions to make sure you have understood the concepts in this problem. Answer briefly with in few sentences using the Markdown/text cell below.\n",
        "\n",
        "You can also write any feedback or questions concerning this problem in this Markdown/text cell.\n",
        "\n",
        "1. Is the concept of using the `and` operator and the difference between the `if`, `elif`, and `else` conditional statements clear to you? If not, what is difficult to understand?\n",
        "2. Did you include comments in your code blocks? If not, please add them now :)\n",
        "\n",
        "Write your answers below (double click to activate and edit the cell below)."
      ]
    },
    {
      "cell_type": "markdown",
      "id": "720e51c3",
      "metadata": {
        "id": "720e51c3"
      },
      "source": [
        "YOUR ANSWER HERE"
      ]
    },
    {
      "cell_type": "markdown",
      "id": "bf10b32a",
      "metadata": {
        "id": "bf10b32a"
      },
      "source": [
        "### Done!\n",
        "\n",
        "That's it! Now you have finished all the assignments for this week! Upload them in Canvas!"
      ]
    },
    {
      "cell_type": "code",
      "execution_count": null,
      "id": "1ee07660",
      "metadata": {
        "id": "1ee07660"
      },
      "outputs": [],
      "source": []
    }
  ],
  "metadata": {
    "kernelspec": {
      "display_name": "Python 3 (ipykernel)",
      "language": "python",
      "name": "python3"
    },
    "language_info": {
      "codemirror_mode": {
        "name": "ipython",
        "version": 3
      },
      "file_extension": ".py",
      "mimetype": "text/x-python",
      "name": "python",
      "nbconvert_exporter": "python",
      "pygments_lexer": "ipython3",
      "version": "3.11.5"
    },
    "colab": {
      "provenance": []
    }
  },
  "nbformat": 4,
  "nbformat_minor": 5
}