{
  "cells": [
    {
      "cell_type": "markdown",
      "id": "288fb43e",
      "metadata": {
        "id": "288fb43e"
      },
      "source": [
        "## Assignment 2 - Classifying temperatures\n",
        "\n",
        "### Overview\n",
        "\n",
        "This problem is designed to introduce you to the very common and useful concept of data classification.\n",
        "In this problem your aim is to classify daily temperatures (in degrees Celsius) stored in the `temperatures` list into four different classes:\n",
        "\n",
        "- **Cold**: Temperatures of less than -2 degrees\n",
        "- **Slippery**: Temperatures equal to or warmer than -2 degrees, but less than +2 degrees\n",
        "- **Comfortable**: Temperatures equal to or warmer than +2 degrees, but less than +15 degrees\n",
        "- **Warm**: Temperatures equal to or warmer than +15 degrees\n",
        "\n",
        "To solve this problem, you should modify and fill in the missing parts in the following cells.\n",
        "\n"
      ]
    },
    {
      "cell_type": "markdown",
      "id": "ae1c5da0",
      "metadata": {
        "id": "ae1c5da0"
      },
      "source": [
        "## Data description\n",
        "\n",
        "The data for this problem comprise a list of night-time, daytime and evening temperatures for April 2013 recorded at the Arlanda Airport. The list contains 90 values since there are 3 values for each day (and April has 30 days). The first value of a given day represents night, the second one is for the daytime, and the third one is for the evening temperature."
      ]
    },
    {
      "cell_type": "code",
      "execution_count": 23,
      "id": "2e626f9a",
      "metadata": {
        "colab": {
          "base_uri": "https://localhost:8080/"
        },
        "id": "2e626f9a",
        "outputId": "eca403b8-931e-4632-f170-93a8c7c29ea3"
      },
      "outputs": [
        {
          "output_type": "stream",
          "name": "stdout",
          "text": [
            "[-5.6, -5.4, -4.8, -4.8, -4.7, -4.6, -4.6, -4.4, -3.9, -3.3, -2.8, -2.7, -2.5, -2.4, -2.2, -1.3, -0.9, -0.8, -0.4, -0.1, -0.0, 0.1, 1.0, 1.0, 1.4, 1.5, 1.6, 1.6, 1.6, 1.8, 1.9, 2.1, 2.2, 2.4, 2.6, 2.6, 2.6, 2.8, 2.8, 2.9, 3.0, 3.1, 3.1, 3.3, 3.4, 3.4, 3.5, 3.6, 3.7, 3.8, 3.9, 4.0, 4.0, 4.0, 4.1, 4.1, 4.2, 4.3, 4.4, 4.5, 4.7, 4.7, 4.7, 4.7, 4.8, 4.8, 4.9, 5.1, 5.1, 5.2, 5.2, 5.3, 5.4, 5.6, 6.2, 6.3, 6.4, 6.4, 6.6, 6.9, 7.3, 7.6, 7.6, 8.1, 8.5, 8.6, 8.9, 9.3, 11.3, 11.5]\n"
          ]
        }
      ],
      "source": [
        "temperatures = [-5.4, 1.0, -1.3, -4.8, 3.9, 0.1, -4.4, 4.0, -2.2, -3.9, 4.4,\n",
        "                -2.5, -4.6, 5.1, 2.1, -2.4, 1.9, -3.3, -4.8, 1.0, -0.8, -2.8,\n",
        "                -0.1, -4.7, -5.6, 2.6, -2.7, -4.6, 3.4, -0.4, -0.9, 3.1, 2.4,\n",
        "                1.6, 4.2, 3.5, 2.6, 3.1, 2.2, 1.8, 3.3, 1.6, 1.5, 4.7, 4.0,\n",
        "                3.6, 4.9, 4.8, 5.3, 5.6, 4.1, 3.7, 7.6, 6.9, 5.1, 6.4, 3.8,\n",
        "                4.0, 8.6, 4.1, 1.4, 8.9, 3.0, 1.6, 8.5, 4.7, 6.6, 8.1, 4.5,\n",
        "                4.8, 11.3, 4.7, 5.2, 11.5, 6.2, 2.9, 4.3, 2.8, 2.8, 6.3, 2.6,\n",
        "                -0.0, 7.3, 3.4, 4.7, 9.3, 6.4, 5.4, 7.6, 5.2]\n",
        "temperatures.sort()  # Sorting for good overview\n",
        "print(temperatures)"
      ]
    },
    {
      "cell_type": "markdown",
      "id": "e5c35d5f",
      "metadata": {
        "id": "e5c35d5f"
      },
      "source": [
        " Create four empty lists for the different temperature classes:\n",
        "\n",
        "    - `cold`\n",
        "    - `slippery`\n",
        "    - `comfortable`\n",
        "    - `warm`\n",
        "  \n",
        "Be sure to use these **exact** names for your lists."
      ]
    },
    {
      "cell_type": "code",
      "execution_count": 24,
      "id": "60aaeaac",
      "metadata": {
        "id": "60aaeaac"
      },
      "outputs": [],
      "source": [
        "# Creating empty lists for temperature classes\n",
        "cold = []\n",
        "slippery = []\n",
        "comfortable = []\n",
        "warm = []"
      ]
    },
    {
      "cell_type": "code",
      "execution_count": 25,
      "id": "426fcc24",
      "metadata": {
        "colab": {
          "base_uri": "https://localhost:8080/"
        },
        "id": "426fcc24",
        "outputId": "2a1d43e1-73ad-496a-c3ac-ce435a8709ee"
      },
      "outputs": [
        {
          "output_type": "stream",
          "name": "stdout",
          "text": [
            "[] [] [] []\n"
          ]
        }
      ],
      "source": [
        "# Test print for all lists (they should be empty at this point)\n",
        "print(cold, slippery, comfortable, warm)"
      ]
    },
    {
      "cell_type": "markdown",
      "id": "9b090f72",
      "metadata": {
        "id": "9b090f72"
      },
      "source": [
        "Iterate over the temperatures and add temperatures to the different temperature classes defined below:\n",
        "\n",
        "- **Cold**: Temperatures of less than -2 degrees\n",
        "- **Slippery**: Temperatures equal to or warmer than -2 degrees, but less than +2 degrees\n",
        "- **Comfortable**: Temperatures equal to or warmer than +2 degrees, but less than +15 degrees\n",
        "- **Warm**: Temperatures equal to or warmer than +15 degrees"
      ]
    },
    {
      "cell_type": "code",
      "execution_count": 26,
      "id": "59cb6249",
      "metadata": {
        "id": "59cb6249"
      },
      "outputs": [],
      "source": [
        "# For loop to append correct temperatures to each list\n",
        "for i in temperatures:\n",
        "  if i < -2:\n",
        "    cold.append(i)\n",
        "  elif (i >= -2) and (i < 2):\n",
        "    slippery.append(i)\n",
        "  elif (i >= 2) and (i < 15):\n",
        "    comfortable.append(i)\n",
        "  else:\n",
        "    warm.append(i)"
      ]
    },
    {
      "cell_type": "code",
      "execution_count": 27,
      "id": "e1b708a4",
      "metadata": {
        "colab": {
          "base_uri": "https://localhost:8080/"
        },
        "id": "e1b708a4",
        "outputId": "138d79ca-ae87-49aa-f499-9b17584f9e86"
      },
      "outputs": [
        {
          "output_type": "stream",
          "name": "stdout",
          "text": [
            "[-5.6, -5.4, -4.8, -4.8, -4.7, -4.6, -4.6, -4.4, -3.9, -3.3, -2.8, -2.7, -2.5, -2.4, -2.2] [-1.3, -0.9, -0.8, -0.4, -0.1, -0.0, 0.1, 1.0, 1.0, 1.4, 1.5, 1.6, 1.6, 1.6, 1.8, 1.9] [2.1, 2.2, 2.4, 2.6, 2.6, 2.6, 2.8, 2.8, 2.9, 3.0, 3.1, 3.1, 3.3, 3.4, 3.4, 3.5, 3.6, 3.7, 3.8, 3.9, 4.0, 4.0, 4.0, 4.1, 4.1, 4.2, 4.3, 4.4, 4.5, 4.7, 4.7, 4.7, 4.7, 4.8, 4.8, 4.9, 5.1, 5.1, 5.2, 5.2, 5.3, 5.4, 5.6, 6.2, 6.3, 6.4, 6.4, 6.6, 6.9, 7.3, 7.6, 7.6, 8.1, 8.5, 8.6, 8.9, 9.3, 11.3, 11.5] []\n"
          ]
        }
      ],
      "source": [
        "# Test prints for all lists (now they should contain values)\n",
        "print(cold, slippery, comfortable, warm)\n"
      ]
    },
    {
      "cell_type": "markdown",
      "id": "f7b299dc",
      "metadata": {
        "id": "f7b299dc"
      },
      "source": [
        "\n",
        "Please answer the following questions by modifying the Python cells below:\n",
        "\n",
        "- How many times was it slippery during the study period?"
      ]
    },
    {
      "cell_type": "code",
      "execution_count": 28,
      "id": "f9ffda34",
      "metadata": {
        "id": "f9ffda34"
      },
      "outputs": [],
      "source": [
        "# Checking how many times it was slippery\n",
        "slippery_times = len(slippery)\n"
      ]
    },
    {
      "cell_type": "code",
      "execution_count": 29,
      "id": "0b47abcd",
      "metadata": {
        "colab": {
          "base_uri": "https://localhost:8080/"
        },
        "id": "0b47abcd",
        "outputId": "45a47092-0249-43fc-cc5e-8295ca2b95fe"
      },
      "outputs": [
        {
          "output_type": "stream",
          "name": "stdout",
          "text": [
            "In April 2013 it was slippery 16 times.\n"
          ]
        }
      ],
      "source": [
        "# Print the answer\n",
        "print(f\"In April 2013 it was slippery {slippery_times} times.\")"
      ]
    },
    {
      "cell_type": "markdown",
      "id": "f3dead82",
      "metadata": {
        "id": "f3dead82"
      },
      "source": [
        "\n",
        "- How many times was it warm during the study period?"
      ]
    },
    {
      "cell_type": "code",
      "execution_count": 30,
      "id": "fd350aad",
      "metadata": {
        "id": "fd350aad"
      },
      "outputs": [],
      "source": [
        "# Checking how many times it was warm\n",
        "warm_times = len(warm)"
      ]
    },
    {
      "cell_type": "code",
      "execution_count": 31,
      "id": "6113a133",
      "metadata": {
        "colab": {
          "base_uri": "https://localhost:8080/"
        },
        "id": "6113a133",
        "outputId": "fd4417b0-8dbb-4ac5-ab2d-7648bd6dc8fe"
      },
      "outputs": [
        {
          "output_type": "stream",
          "name": "stdout",
          "text": [
            "In April 2013 it was warm 0 times.\n"
          ]
        }
      ],
      "source": [
        "# Print the answer\n",
        "print(f\"In April 2013 it was warm {warm_times} times.\")"
      ]
    },
    {
      "cell_type": "markdown",
      "id": "c99fbeaa",
      "metadata": {
        "id": "c99fbeaa"
      },
      "source": [
        "- How many times was it cold during the study period?"
      ]
    },
    {
      "cell_type": "code",
      "execution_count": 32,
      "id": "f368d257",
      "metadata": {
        "id": "f368d257"
      },
      "outputs": [],
      "source": [
        "# Checking how many times it was cold\n",
        "cold_times = len(cold)"
      ]
    },
    {
      "cell_type": "code",
      "execution_count": 33,
      "id": "d88477a9",
      "metadata": {
        "colab": {
          "base_uri": "https://localhost:8080/"
        },
        "id": "d88477a9",
        "outputId": "87d3813a-bc24-4c5e-8bc7-a088dc22a52f"
      },
      "outputs": [
        {
          "output_type": "stream",
          "name": "stdout",
          "text": [
            "In April 2013 it was cold 15 times.\n"
          ]
        }
      ],
      "source": [
        "# Print the answer\n",
        "print(f\"In April 2013 it was cold {cold_times} times.\")"
      ]
    },
    {
      "cell_type": "markdown",
      "id": "425905a9",
      "metadata": {
        "id": "425905a9"
      },
      "source": [
        "\n",
        "Here, we ask a few questions to make sure you have understood the concepts in this problem. Answer shortly in a few sentences using the Markdown/text cell below.\n",
        "\n",
        "You can also write any feedback or questions concerning this problem in this Markdown cell/text.\n",
        "\n",
        "1. Is the concept of conditional statements clear to you? If not, what is difficult to understand?\n",
        "2. Did you include comments in your code blocks? If not, do it now :)\n",
        "  \n",
        "Write your answers below (double click to activate and edit the cell below)."
      ]
    },
    {
      "cell_type": "markdown",
      "id": "6d1fedb3",
      "metadata": {
        "id": "6d1fedb3"
      },
      "source": [
        "1. It is clear, but I find it a bit hard to use and to see in which order to do what. The fact that you can declare a variable in the conditional statment (ex. *for i in list*) is also a bit confusing.\n",
        "2. Yes."
      ]
    },
    {
      "cell_type": "markdown",
      "id": "bff67567",
      "metadata": {
        "id": "bff67567"
      },
      "source": []
    },
    {
      "cell_type": "code",
      "execution_count": null,
      "id": "128fc99f",
      "metadata": {
        "id": "128fc99f"
      },
      "outputs": [],
      "source": []
    }
  ],
  "metadata": {
    "kernelspec": {
      "display_name": "Python 3 (ipykernel)",
      "language": "python",
      "name": "python3"
    },
    "language_info": {
      "codemirror_mode": {
        "name": "ipython",
        "version": 3
      },
      "file_extension": ".py",
      "mimetype": "text/x-python",
      "name": "python",
      "nbconvert_exporter": "python",
      "pygments_lexer": "ipython3",
      "version": "3.11.4"
    },
    "colab": {
      "provenance": []
    }
  },
  "nbformat": 4,
  "nbformat_minor": 5
}