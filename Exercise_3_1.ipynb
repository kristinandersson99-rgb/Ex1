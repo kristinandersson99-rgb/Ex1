{
  "cells": [
    {
      "cell_type": "markdown",
      "id": "be602aa5",
      "metadata": {
        "id": "be602aa5"
      },
      "source": [
        "\n",
        "### Scores for this problem\n",
        "\n",
        "### Assignment 1\n",
        "\n",
        "**Your score on this problem will be based on following criteria:**\n",
        "\n",
        " - Creating and using variables to produce the desired text format\n",
        " - Successfully using a for loop to iterate over desired set of numbers\n",
        " - Successfully producing the desired filename(s)\n",
        " - Including comments that explain what most lines in the code do\n",
        " - Answering a couple questions at the end of the problem\n",
        ""
      ]
    },
    {
      "cell_type": "markdown",
      "id": "36707837",
      "metadata": {
        "id": "36707837"
      },
      "source": [
        "### Part 1\n",
        "- Create a new variable called `basename` that contains the text `\"Station\"`."
      ]
    },
    {
      "cell_type": "code",
      "execution_count": 50,
      "id": "663701af",
      "metadata": {
        "id": "663701af"
      },
      "outputs": [],
      "source": [
        "# Declaring a variable\n",
        "basename = \"Station\""
      ]
    },
    {
      "cell_type": "code",
      "execution_count": 51,
      "id": "5742942d",
      "metadata": {
        "colab": {
          "base_uri": "https://localhost:8080/"
        },
        "id": "5742942d",
        "outputId": "e22b84c6-4ee2-4738-9e14-4fff7da8ea9f"
      },
      "outputs": [
        {
          "output_type": "stream",
          "name": "stdout",
          "text": [
            "Station\n"
          ]
        }
      ],
      "source": [
        "# Test print of the variable\n",
        "print(basename)"
      ]
    },
    {
      "cell_type": "markdown",
      "id": "0843f6e1",
      "metadata": {
        "id": "0843f6e1"
      },
      "source": [
        "- Create a new variable `filenames` that is an empty list."
      ]
    },
    {
      "cell_type": "code",
      "execution_count": 52,
      "id": "7652c122",
      "metadata": {
        "id": "7652c122"
      },
      "outputs": [],
      "source": [
        "# Creating an empty list\n",
        "filenames = []"
      ]
    },
    {
      "cell_type": "code",
      "execution_count": 53,
      "id": "3bd72cf2",
      "metadata": {
        "colab": {
          "base_uri": "https://localhost:8080/"
        },
        "id": "3bd72cf2",
        "outputId": "3fd2ee93-b214-4797-c4aa-ce0e7972c2ee"
      },
      "outputs": [
        {
          "output_type": "stream",
          "name": "stdout",
          "text": [
            "[]\n"
          ]
        }
      ],
      "source": [
        "# Test print of the variable\n",
        "print(filenames)\n"
      ]
    },
    {
      "cell_type": "markdown",
      "id": "4d5b5638",
      "metadata": {
        "id": "4d5b5638"
      },
      "source": [
        "### Part 2\n",
        "- Using a `for` loop, iterate over the number range 0-20. Within the loop you should:\n",
        "    - Create a variable `station` that contains:\n",
        "        1. the text from the `basename` variable\n",
        "        2. the number\n",
        "        3. the file extension `.txt`  \n",
        "    - Add the content of `station` to the `filenames` list, which should have following content in the end:\n",
        "\n",
        "      ```\n",
        "      ['Station_0.txt', 'Station_1.txt', 'Station_2.txt', 'Station_3.txt',\n",
        "       'Station_4.txt', 'Station_5.txt', 'Station_6.txt', 'Station_7.txt',\n",
        "       'Station_8.txt', 'Station_9.txt', 'Station_10.txt', 'Station_11.txt',\n",
        "       'Station_12.txt', 'Station_13.txt', 'Station_14.txt', 'Station_15.txt',\n",
        "       'Station_16.txt', 'Station_17.txt', 'Station_18.txt', 'Station_19.txt',\n",
        "       'Station_20.txt']\n",
        "      ```"
      ]
    },
    {
      "cell_type": "code",
      "execution_count": 54,
      "id": "38f6e94e",
      "metadata": {
        "colab": {
          "base_uri": "https://localhost:8080/"
        },
        "id": "38f6e94e",
        "outputId": "5c73d13f-dbd3-47c5-afb8-360275acbf90"
      },
      "outputs": [
        {
          "output_type": "stream",
          "name": "stdout",
          "text": [
            "['Station_0.txt', 'Station_1.txt', 'Station_2.txt', 'Station_3.txt', 'Station_4.txt', 'Station_5.txt', 'Station_6.txt', 'Station_7.txt', 'Station_8.txt', 'Station_9.txt', 'Station_10.txt', 'Station_11.txt', 'Station_12.txt', 'Station_13.txt', 'Station_14.txt', 'Station_15.txt', 'Station_16.txt', 'Station_17.txt', 'Station_18.txt', 'Station_19.txt', 'Station_20.txt']\n"
          ]
        }
      ],
      "source": [
        "# For loop to construct a list of text filenames by combining the basename with station number\n",
        "for i in range(21):\n",
        "  station = f\"{basename}_{i}.txt\"\n",
        "  filenames.append(station)\n",
        "print(filenames)"
      ]
    },
    {
      "cell_type": "code",
      "execution_count": 56,
      "id": "9bc79535",
      "metadata": {
        "colab": {
          "base_uri": "https://localhost:8080/"
        },
        "id": "9bc79535",
        "outputId": "9437e0b9-0779-4cc1-c85e-7964436a91d3"
      },
      "outputs": [
        {
          "output_type": "stream",
          "name": "stdout",
          "text": [
            "['Station_0.txt', 'Station_1.txt', 'Station_2.txt', 'Station_3.txt', 'Station_4.txt', 'Station_5.txt', 'Station_6.txt', 'Station_7.txt', 'Station_8.txt', 'Station_9.txt', 'Station_10.txt', 'Station_11.txt', 'Station_12.txt', 'Station_13.txt', 'Station_14.txt', 'Station_15.txt', 'Station_16.txt', 'Station_17.txt', 'Station_18.txt', 'Station_19.txt', 'Station_20.txt']\n"
          ]
        }
      ],
      "source": [
        "# Test print of the results\n",
        "print(filenames)"
      ]
    },
    {
      "cell_type": "code",
      "execution_count": 57,
      "id": "cee98a2c",
      "metadata": {
        "colab": {
          "base_uri": "https://localhost:8080/"
        },
        "id": "cee98a2c",
        "outputId": "1a1754f9-16e1-46c2-f0d7-c3494818c362"
      },
      "outputs": [
        {
          "output_type": "execute_result",
          "data": {
            "text/plain": [
              "21"
            ]
          },
          "metadata": {},
          "execution_count": 57
        }
      ],
      "source": [
        "len(filenames)"
      ]
    },
    {
      "cell_type": "code",
      "execution_count": 58,
      "id": "883c6291",
      "metadata": {
        "id": "883c6291"
      },
      "outputs": [],
      "source": [
        "# Check that the value of the last station is correct\n",
        "# Note! This test assumes that you used the variable `station` inside the for-loop\n",
        "assert station.lower().strip() == 'station_20.txt', 'The value of the last station is not correct'"
      ]
    },
    {
      "cell_type": "code",
      "execution_count": 59,
      "id": "2bda0388",
      "metadata": {
        "id": "2bda0388"
      },
      "outputs": [],
      "source": [
        "# Check that there are 21 values in the list\n",
        "assert len(filenames) == 21, 'The length of the list \"filenames\" should be 21'"
      ]
    },
    {
      "cell_type": "markdown",
      "id": "b9448b8e",
      "metadata": {
        "id": "b9448b8e"
      },
      "source": [
        "\n",
        "Here, we ask you a few questions to make sure you have understood the concepts in this problem. Answer briefly in a few sentences using the Markdown cell below.\n",
        "\n",
        "You can also write any feedback or questions concerning this problem in this Markdown cell.\n",
        "\n",
        "1. Is the concept of a loop clear to you? If not, what is difficult to understand?\n",
        "2. Did you include comments in your code blocks? If not, please add them now :)\n",
        "  \n",
        "Write your answers below (double click to activate and edit the cell below)."
      ]
    },
    {
      "cell_type": "markdown",
      "id": "905dbb4a",
      "metadata": {
        "id": "905dbb4a"
      },
      "source": [
        "1. The concept is a bit confusing, I got some wrong print messages due having the print function indented. I also got a bit confused with when to delclare the variable \"station\". At first I declared it directly when creating the for loop.\n",
        "2. Yes"
      ]
    },
    {
      "cell_type": "markdown",
      "id": "49f28ab3",
      "metadata": {
        "id": "49f28ab3"
      },
      "source": [
        "### Done!\n",
        "\n",
        "That's it! Now you are ready to continue with Assignment 2."
      ]
    },
    {
      "cell_type": "code",
      "execution_count": null,
      "id": "b6a92ca2",
      "metadata": {
        "id": "b6a92ca2"
      },
      "outputs": [],
      "source": []
    }
  ],
  "metadata": {
    "kernelspec": {
      "display_name": "Python 3 (ipykernel)",
      "language": "python",
      "name": "python3"
    },
    "language_info": {
      "codemirror_mode": {
        "name": "ipython",
        "version": 3
      },
      "file_extension": ".py",
      "mimetype": "text/x-python",
      "name": "python",
      "nbconvert_exporter": "python",
      "pygments_lexer": "ipython3",
      "version": "3.11.4"
    },
    "colab": {
      "provenance": []
    }
  },
  "nbformat": 4,
  "nbformat_minor": 5
}